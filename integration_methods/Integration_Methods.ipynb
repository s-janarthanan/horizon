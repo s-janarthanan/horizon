{
  "nbformat": 4,
  "nbformat_minor": 0,
  "metadata": {
    "colab": {
      "name": "Integration_Methods.ipynb",
      "provenance": [],
      "collapsed_sections": []
    },
    "kernelspec": {
      "name": "python3",
      "display_name": "Python 3"
    },
    "language_info": {
      "name": "python"
    }
  },
  "cells": [
    {
      "cell_type": "markdown",
      "source": [
        "# Integration Methods"
      ],
      "metadata": {
        "id": "Cb2u7obw2p0Q"
      }
    },
    {
      "cell_type": "markdown",
      "source": [
        "\n",
        "## Numerically computing $ \\int_{0}^{1} x^2 dx $ "
      ],
      "metadata": {
        "id": "Hz1jSibttj9i"
      }
    },
    {
      "cell_type": "code",
      "source": [
        "\"\"\"\n",
        "function that computes square of the given value x\n",
        "\"\"\"\n",
        "def square(x):\n",
        "  return x*x"
      ],
      "metadata": {
        "id": "YxIpID3H6jjS"
      },
      "execution_count": null,
      "outputs": []
    },
    {
      "cell_type": "markdown",
      "source": [
        "# Riemann Sum Method\n",
        "\n",
        "The sum is calculated by partitioning the region into shapes (usually rectangles or trapezoids), calculating area of each shape and adding all the areas. As the number of partitions get arbitrarily large, the Riemann sum gets arbitrarily closer to the actual definite integral.\n",
        "\n",
        "[Wikipedia Riemann Sum Page](https://en.wikipedia.org/wiki/Riemann_sum)"
      ],
      "metadata": {
        "id": "9MO2ZguE5uH4"
      }
    },
    {
      "cell_type": "markdown",
      "source": [
        "## Left Riemann Sum\n",
        "\n",
        "The left Riemann Sum is found by approximating the function to its value at the left end point. The width of rectangle may or may not be uniform, but we take uniform partitioning. Once we add up all the areas, we get :\n",
        "\n",
        "\\begin{align}\n",
        " A_{left} = Δx · [f(a) + f(a+ Δx) + f(a+ 2Δx) + ⋯ + f(a+ (n-1)Δx)] \n",
        "\\end{align}\n"
      ],
      "metadata": {
        "id": "SRh-KDYexaTg"
      }
    },
    {
      "cell_type": "code",
      "source": [
        "\"\"\"\n",
        "function to integrate given integrand from 'a' to 'b' using \n",
        "the left Riemann sum method.\n",
        "\n",
        "N is the number of rectangles to use\n",
        "integrand is the function to integrate\n",
        "a is the lower limit (default is 0)\n",
        "b is the upper limit (default is 1)\n",
        "\"\"\"\n",
        "def left_riemann_sum (N, integrand, a = 0.0, b = 1.0) :\n",
        "  delta_x = (b-a)/N # uniform partition of the interval [a, b]\n",
        "  sum = 0\n",
        "  for i in range (N):\n",
        "    sum = sum + integrand(a + (i * delta_x))\n",
        "  return sum/N"
      ],
      "metadata": {
        "id": "bMOMPCZAsEcT"
      },
      "execution_count": null,
      "outputs": []
    },
    {
      "cell_type": "code",
      "source": [
        "left_riemann_sum (10000, square)"
      ],
      "metadata": {
        "colab": {
          "base_uri": "https://localhost:8080/"
        },
        "id": "nX3ZvyBFs2v4",
        "outputId": "11370db0-e972-4e3f-d3be-7c49a0cd58b9"
      },
      "execution_count": null,
      "outputs": [
        {
          "output_type": "execute_result",
          "data": {
            "text/plain": [
              "0.3332833349999983"
            ]
          },
          "metadata": {},
          "execution_count": 34
        }
      ]
    },
    {
      "cell_type": "markdown",
      "source": [
        "## Right Riemann Sum\n",
        "The Right Riemann Sum is found by approximating the funciton to its value at the right end point of the interval. Again, we consider uniform partition of the interval. Once we add up all the areas, we get :\n",
        "\n",
        "\\begin{align}\n",
        " A_{right} = Δx · [f(a+ Δx) + f(a+ 2Δx) + ⋯ + f(a + nΔx)]\n",
        "\\end{align}\n",
        "\n"
      ],
      "metadata": {
        "id": "Q6pIRpDzzxBv"
      }
    },
    {
      "cell_type": "code",
      "source": [
        "\"\"\"\n",
        "function to integrate given integrand from 'a' to 'b' using \n",
        "the right Riemann sum method.\n",
        "\n",
        "N is the number of rectangles to use\n",
        "integrand is the function to integrate\n",
        "a is the lower limit (default is 0)\n",
        "b is the upper limit (default is 1)\n",
        "\"\"\"\n",
        "def right_riemann_sum (N, integrand, a = 0.0, b = 1.0) :\n",
        "  delta_x = (b-a)/N # uniform partition of the interval [a, b]\n",
        "  sum = 0\n",
        "  for i in range (N):\n",
        "    sum = sum + integrand(a + ((i+1) * delta_x))\n",
        "  return sum/N"
      ],
      "metadata": {
        "id": "2Fy3yrYIt2Uk"
      },
      "execution_count": null,
      "outputs": []
    },
    {
      "cell_type": "code",
      "source": [
        "right_riemann_sum(10000, square)"
      ],
      "metadata": {
        "colab": {
          "base_uri": "https://localhost:8080/"
        },
        "id": "OVdrKhuDugrf",
        "outputId": "05acf2cc-6b58-457d-eb9a-2f4a293e119e"
      },
      "execution_count": null,
      "outputs": [
        {
          "output_type": "execute_result",
          "data": {
            "text/plain": [
              "0.3333833349999983"
            ]
          },
          "metadata": {},
          "execution_count": 36
        }
      ]
    },
    {
      "cell_type": "markdown",
      "source": [
        "##Trapezoidal Riemann Sum\n",
        "Here, the trapezoidal area is taken, rather than rectangular area. Numerically, it is the average of left and right Riemann sums. When we add all the trapezoidal areas, we get :\n",
        "\\begin{align}\n",
        "A_{trpz} = \\frac{Δx}{2}·[f(a) + 2\\cdotp f(a+Δx) + 2·f(a+2Δx) + ⋯ 2·f(a+(n-1)Δx) + f(b)]\n",
        "\\end{align}\n"
      ],
      "metadata": {
        "id": "_qDIdsqF2g6Y"
      }
    },
    {
      "cell_type": "code",
      "source": [
        "\"\"\"\n",
        "function to integrate given integrand from 'a' to 'b' using \n",
        "the Riemann trapezoidal sum method.\n",
        "\n",
        "N is the number of rectangles to use\n",
        "integrand is the function to integrate\n",
        "a is the lower limit (default is 0)\n",
        "b is the upper limit (default is 1)\n",
        "\"\"\"\n",
        "def riemann_trapezoidal_sum(N, integrand, a = 0.0, b = 1.0):\n",
        "  sum = 0\n",
        "  delta_x = (b-a)/N #uniform partition of the interval [a, b]\n",
        "  for i in range (N):\n",
        "    left_plus_right = integrand(a + (i * delta_x)) + \\\n",
        "                     integrand(a + ((i+1) * delta_x))\n",
        "    sum = sum + (left_plus_right/2)\n",
        "  return sum/N"
      ],
      "metadata": {
        "id": "g4WRM7VNuwIY"
      },
      "execution_count": null,
      "outputs": []
    },
    {
      "cell_type": "code",
      "source": [
        "riemann_trapezoidal_sum(10000, square)"
      ],
      "metadata": {
        "colab": {
          "base_uri": "https://localhost:8080/"
        },
        "id": "CrnGAEQyvffu",
        "outputId": "7ff52cb8-9c01-48af-9ba7-c090c033466a"
      },
      "execution_count": null,
      "outputs": [
        {
          "output_type": "execute_result",
          "data": {
            "text/plain": [
              "0.33333333500000173"
            ]
          },
          "metadata": {},
          "execution_count": 119
        }
      ]
    },
    {
      "cell_type": "markdown",
      "source": [
        "##Simpons method (aka parabolic approximation)\n",
        "In this method, we will have to partition the interval into an even number of partitions. Unlike the previous methods, here we approximate the area not by straight lines, but by vertical parabolas. Once we calculate the area under each parabola, we will get :\n",
        "\n",
        "\\begin{align}\n",
        "\\int_{a}^{b}f(x)·dx ≈ \\frac{Δx}{3} · (y_0 + 4y_1 + 2y_2 + 4y_3 + ⋯+ 4y_{n-1} + y_n)\n",
        "\\end{align}\n",
        "\n",
        "where $Δx = \\frac{b-a}{n}$ and \n",
        "$ y_i = f(a + iΔx) $\n",
        "\n",
        "[See also Wikipedia Simpson's_rule](https://en.wikipedia.org/wiki/Simpson%27s_rule)"
      ],
      "metadata": {
        "id": "Q7Y93myM4PvF"
      }
    },
    {
      "cell_type": "code",
      "source": [
        "\"\"\"\n",
        "integrate using Simpson's method/ parabolic curve approximation, \n",
        "where N is number of intervals\n",
        "\"\"\"\n",
        "def simpson_sum(N, integrand, a = 0.0, b = 1.0):\n",
        "  if N % 2 != 0:\n",
        "    # we have to make sure that N is even for Simpson's formula.\n",
        "    # Hence we add 1 if N is odd\n",
        "    N += 1 \n",
        "    \n",
        "  delta_x = (b - a)/N # uniform partition of the interval [a, b]\n",
        "  sum = 0\n",
        "  for i in range(0, N-1, 2):\n",
        "    sum += (delta_x/3) * ( integrand(a + i*delta_x) + \n",
        "                4*integrand(a + (i+1)*delta_x) + integrand(a + (i+2)*delta_x) )\n",
        "  return sum  \n",
        "\n"
      ],
      "metadata": {
        "id": "RyuIh01qw6ew"
      },
      "execution_count": null,
      "outputs": []
    },
    {
      "cell_type": "code",
      "source": [
        "simpson_sum(1, square)"
      ],
      "metadata": {
        "colab": {
          "base_uri": "https://localhost:8080/"
        },
        "id": "GDzu6PB5yX8u",
        "outputId": "96e78c05-ed91-4ebc-bd37-14ceb4f38580"
      },
      "execution_count": null,
      "outputs": [
        {
          "output_type": "execute_result",
          "data": {
            "text/plain": [
              "0.3333333333333333"
            ]
          },
          "metadata": {},
          "execution_count": 51
        }
      ]
    },
    {
      "cell_type": "markdown",
      "source": [
        "## Monte Carlo Integration Method\n",
        "The Monte Carlo method uses average value of function values evaluated at randomly chosen discrete points in the integration interval.\n",
        "\n",
        "### Explanation :\n",
        "\n",
        "* Let the continuous random variable X have a probability density function p(x). Then, the expected value of a function f(X) is :\n",
        "\n",
        "\\begin{align}\n",
        "E(f(X)) = ∫_{-∞}^{∞}f(x)·p(x)dx \n",
        "\\end{align}\n",
        "\n",
        "* If X is a uniform random variable in the interval [a, b] : \n",
        "\n",
        "\\begin{align}\n",
        " p(x) = \\frac{1}{b-a},\n",
        " \\end{align}and \n",
        "\\begin{align}\n",
        "E(f(X)) = \\frac{1}{b-a}·∫_a^bf(x)dx.\n",
        "\\end{align}\n",
        "\n",
        "* Then, $\\int_a^bf(x)dx = (b-a)· E(f(X))$. This is the basis for Monte Carlo method.\n",
        "\n",
        "\\begin{align}\n",
        "   E(f(x)) = \\lim_{N \\to ∞} \\frac {\\sum_{i = 0}^{N} f(X_i)}{N}\n",
        "\\end{align}\n",
        "\n",
        "\n",
        "\\begin{align}\n",
        "   E(f(x)) ≈ \\frac {\\sum_{i = 0}^{N} f(X_i)}{N}  \\textrm{ for some large} N\n",
        "\\end{align}\n",
        "\n",
        "\\begin{align}\n",
        "    E(f(X)) ≈ \\frac {\\sum_{i = 0}^{N} f(X_i)}{N}  \\textrm{ for some large} N\n",
        "\\end{align}\n",
        "\n",
        "\\begin{align}\n",
        " ∫_a^bf(x)dx ≈ (b-a) \\cdot\\frac {\\sum_{i = 0}^{N} f(X_i)}{N}  \\textrm{ for some large} N\n",
        "\\end{align}\n",
        "\n",
        "* [See Also \"Basics of Monte Carlo Integration Method\"](https://towardsdatascience.com/the-basics-of-monte-carlo-integration-5fe16b40482d)"
      ],
      "metadata": {
        "id": "fTdOsgMa_9Mt"
      }
    },
    {
      "cell_type": "code",
      "source": [
        "import random\n",
        "\n",
        "\"\"\"\n",
        "Integrating the integrand by using Monte Carlo method,\n",
        "where N is the number of points chosen for sampling.\n",
        "\"\"\"\n",
        "def Monte_Carlo_method(N, integrand, a = 0.0, b = 1.0):\n",
        "  sum = 0\n",
        "  for i in range(N):\n",
        "    sum = sum + integrand(a + random.random()*(b-a))\n",
        "  return sum/N"
      ],
      "metadata": {
        "id": "VNE5VOgR8U8j"
      },
      "execution_count": null,
      "outputs": []
    },
    {
      "cell_type": "code",
      "source": [
        "Monte_Carlo_method(10000, square)"
      ],
      "metadata": {
        "colab": {
          "base_uri": "https://localhost:8080/",
          "height": 170
        },
        "id": "_VpWiSDA9ywv",
        "outputId": "8266502d-47e6-4e54-8f89-d0c0b04cc216"
      },
      "execution_count": null,
      "outputs": [
        {
          "output_type": "error",
          "ename": "NameError",
          "evalue": "ignored",
          "traceback": [
            "\u001b[0;31m---------------------------------------------------------------------------\u001b[0m",
            "\u001b[0;31mNameError\u001b[0m                                 Traceback (most recent call last)",
            "\u001b[0;32m<ipython-input-2-4bea8b4c9d33>\u001b[0m in \u001b[0;36m<module>\u001b[0;34m()\u001b[0m\n\u001b[0;32m----> 1\u001b[0;31m \u001b[0mMonte_Carlo_method\u001b[0m\u001b[0;34m(\u001b[0m\u001b[0;36m10000\u001b[0m\u001b[0;34m,\u001b[0m \u001b[0msquare\u001b[0m\u001b[0;34m)\u001b[0m\u001b[0;34m\u001b[0m\u001b[0;34m\u001b[0m\u001b[0m\n\u001b[0m",
            "\u001b[0;31mNameError\u001b[0m: name 'square' is not defined"
          ]
        }
      ]
    },
    {
      "cell_type": "markdown",
      "source": [
        "##Numerically Integrating, given a set of points (x, y) of the function: \n",
        "\n",
        "* The rectangular Riemann Sum methods now work by simply multiplying y coordinate with the difference of consecutive x coordinates, like :\n",
        "$Σy_i\\cdotp(x_{i+1}-x_i)$, or $Σy_{i+1}\\cdotp(x_{i+1}-x_i)$, and the trapezoidal sum works in a similar way too.\n",
        "\n",
        "* We need an odd number of points (x, y) and even spacing between them (atleast between consecutive points) for Simpson's method to work. As we may not always get such a set of points, Simpson's method is NOT done here.\n",
        "\n",
        "* For the Monte Carlo method, we average out all the y-coordinates and multiply by the total width, $(x_n-x_1).$\n",
        "\n",
        "* The set of points (x, y) is taken as a list of tuples using the python language. The first element of the tuple is the x-coordinate and the second element is the y-coordinate. Each element of a list is a tuple representing $(x_i,y_i)$. We assume that the list is sorted by the first coordinate, i.e $x_1<x_2<x_3<⋯<x_n$.\n",
        "\n",
        "\n"
      ],
      "metadata": {
        "id": "hZsrGwst-L76"
      }
    },
    {
      "cell_type": "code",
      "source": [
        "def left_riemann_sum2(list_of_points):\n",
        "  N = len(list_of_points)\n",
        "  sum = 0\n",
        "  for i in range(N - 1):\n",
        "    sum = sum + (list_of_points[i][1] * \n",
        "                 (list_of_points[i+1][0] - list_of_points[i][0]))\n",
        "  return sum  "
      ],
      "metadata": {
        "id": "LYWwa5hxApib"
      },
      "execution_count": null,
      "outputs": []
    },
    {
      "cell_type": "code",
      "source": [
        "left_riemann_sum2([ (i/10000, square(i/10000))  for i in range(10001)])"
      ],
      "metadata": {
        "colab": {
          "base_uri": "https://localhost:8080/"
        },
        "id": "LiK5x7tGDV_x",
        "outputId": "951d2e68-2017-4c57-cc6f-e3a7c6251a05"
      },
      "execution_count": null,
      "outputs": [
        {
          "output_type": "execute_result",
          "data": {
            "text/plain": [
              "0.33328333499999957"
            ]
          },
          "metadata": {},
          "execution_count": 94
        }
      ]
    },
    {
      "cell_type": "code",
      "source": [
        "x =  sorted([ random.random() for i in range(10000)])\n",
        "left_riemann_sum2([(i, square(i)) for i in x])"
      ],
      "metadata": {
        "colab": {
          "base_uri": "https://localhost:8080/"
        },
        "id": "vJvU1rf4Es6i",
        "outputId": "522e0ba9-914f-46db-945e-0e61d0e394a6"
      },
      "execution_count": null,
      "outputs": [
        {
          "output_type": "execute_result",
          "data": {
            "text/plain": [
              "0.333147647368984"
            ]
          },
          "metadata": {},
          "execution_count": 99
        }
      ]
    },
    {
      "cell_type": "code",
      "source": [
        "def right_riemann_sum2(list_of_points):\n",
        "  N = len(list_of_points)\n",
        "  sum = 0\n",
        "  for i in range(N-1):\n",
        "    sum = sum + (list_of_points[i+1][1] *\n",
        "                 (list_of_points[i+1][0] - list_of_points[i][0]))\n",
        "  return sum  "
      ],
      "metadata": {
        "id": "HDOCOZesOcnX"
      },
      "execution_count": null,
      "outputs": []
    },
    {
      "cell_type": "code",
      "source": [
        "right_riemann_sum2([ (i/10000, square(i/10000)) for i in range(10001)])"
      ],
      "metadata": {
        "colab": {
          "base_uri": "https://localhost:8080/"
        },
        "id": "K1L4KfBHRQMQ",
        "outputId": "5462a0a6-8401-409e-abee-d15461ad23c2"
      },
      "execution_count": null,
      "outputs": [
        {
          "output_type": "execute_result",
          "data": {
            "text/plain": [
              "0.3333833349999992"
            ]
          },
          "metadata": {},
          "execution_count": 102
        }
      ]
    },
    {
      "cell_type": "code",
      "source": [
        "\n",
        "x =  sorted([ random.random() for i in range(10000)])\n",
        "right_riemann_sum2([(i, square(i)) for i in x])"
      ],
      "metadata": {
        "colab": {
          "base_uri": "https://localhost:8080/"
        },
        "id": "63G7UyXQRpg9",
        "outputId": "07b1fe1a-cea9-4024-a613-2550358b40b9"
      },
      "execution_count": null,
      "outputs": [
        {
          "output_type": "execute_result",
          "data": {
            "text/plain": [
              "0.33339650309007884"
            ]
          },
          "metadata": {},
          "execution_count": 45
        }
      ]
    },
    {
      "cell_type": "code",
      "source": [
        "def trapezoidal_sum2(list_of_points):\n",
        "  N = len(list_of_points)\n",
        "  sum = 0\n",
        "  for i in range (N-1):\n",
        "    left_plus_right = (list_of_points[i+1][1] + list_of_points[i][1]) * \\\n",
        "         (list_of_points[i+1][0] - list_of_points[i][0])\n",
        "    sum = sum + (left_plus_right/2)\n",
        "  return sum  "
      ],
      "metadata": {
        "id": "8fUz0AkFUY5F"
      },
      "execution_count": null,
      "outputs": []
    },
    {
      "cell_type": "code",
      "source": [
        "trapezoidal_sum2([ ((i/10000), square(i/10000)) for i in range (10001)])"
      ],
      "metadata": {
        "colab": {
          "base_uri": "https://localhost:8080/"
        },
        "id": "SQWV4RGApGd4",
        "outputId": "d9976c79-74a0-452e-dc29-5613787e7514"
      },
      "execution_count": null,
      "outputs": [
        {
          "output_type": "execute_result",
          "data": {
            "text/plain": [
              "0.33333333499999973"
            ]
          },
          "metadata": {},
          "execution_count": 110
        }
      ]
    },
    {
      "cell_type": "code",
      "source": [
        "def monte_carlo_sum2(list_of_points):\n",
        "  N = len(list_of_points)\n",
        "  sum = 0\n",
        "  for i in range (N):\n",
        "    sum = sum + list_of_points[i][1]\n",
        "  integral = (sum/N) * (list_of_points[N-1][0] - list_of_points[0][0])\n",
        "  return integral\n",
        "    "
      ],
      "metadata": {
        "id": "fDczFyg0qQhI"
      },
      "execution_count": null,
      "outputs": []
    },
    {
      "cell_type": "code",
      "source": [
        "x =  sorted([ random.random() for i in range(10000)])\n",
        "monte_carlo_sum2([(i, square(i)) for i in x])"
      ],
      "metadata": {
        "colab": {
          "base_uri": "https://localhost:8080/"
        },
        "id": "BfWSEE6BrFS9",
        "outputId": "e69ce4b7-0195-427e-bbc2-532c8df65f77"
      },
      "execution_count": null,
      "outputs": [
        {
          "output_type": "execute_result",
          "data": {
            "text/plain": [
              "0.32807657703552123"
            ]
          },
          "metadata": {},
          "execution_count": 117
        }
      ]
    },
    {
      "cell_type": "markdown",
      "source": [
        "## Error analysis : \n",
        "\n",
        "* The numerically computed integral is an approximation. It will differ from the actual value, and we can achieve arbitrary degree of precision by increasing our sample sizes.\n",
        "* The absolute error is the absolute value of the difference between the actual value and the value computed by us. Percentage error is relative error, expressed as a percentage.\n",
        "* Here, the exact value of $\\int_0^1x^2dx$ is $\\frac{1}{3}$ by Newton-Leibniz method.\n",
        "*We run a python program illustrating the absolute and percentage errors for the different methods used to numerically integrate $x^2$. The data is expressed in a tabular format to emphasize the increasing accuracy of the computed values. \n",
        "*For Monte Carlo method, N is the number of sample points, and for all other methods, N is the number of partitions."
      ],
      "metadata": {
        "id": "YCgrCrYOTD5B"
      }
    },
    {
      "cell_type": "code",
      "source": [
        "\n",
        "\n",
        "\n",
        "from tabulate import tabulate # we use the tabulate module to print in a table format.\n",
        "\n",
        "def percent_error(a, b):\n",
        "  return \"{0:.3g}\".format(100 * abs(a - b)/a) + \"%\"\n",
        "\n",
        "N = [10, 100, 1000, 10000, 100000]\n",
        "actual = 1/3\n",
        "# d is a list of lists, and each element in d is a list containing the error information for different sample sizes.\n",
        "d = []\n",
        "l = []\n",
        "for i in N:\n",
        "  computed = left_riemann_sum(i, square)\n",
        "  l = [i, \"left sum\", computed, abs(actual - computed), \n",
        "       percent_error(actual, computed)]\n",
        "  d.append(l)\n",
        "for i in N:\n",
        "  computed = right_riemann_sum(i, square)\n",
        "  l = [i, \"right sum\", computed, abs(actual - computed), \n",
        "       percent_error(actual, computed)]\n",
        "  d.append(l)\n",
        "for i in N:\n",
        "  computed = riemann_trapezoidal_sum(i, square)\n",
        "  l = [i, \"trapezoidal\", computed, abs(actual - computed), \n",
        "       percent_error(actual, computed)]\n",
        "  d.append(l)\n",
        "for i in N:\n",
        "  computed = simpson_sum(i, square)\n",
        "  l = [i, \"Simpson\", computed, abs(actual - computed), \n",
        "       percent_error(actual, computed)]\n",
        "  d.append(l)\n",
        "for i in N:\n",
        "  computed = Monte_Carlo_method(i, square)\n",
        "  l = [i, \"Monte Carlo\", computed, abs(actual - computed), \n",
        "       percent_error(actual, computed)]\n",
        "  d.append(l)\n",
        "\n",
        "print(tabulate(d, headers=[\"Number of samples\", \"Method\", \n",
        "                           \"Computed value\", \"Error\", \"% error\"])) \n"
      ],
      "metadata": {
        "colab": {
          "base_uri": "https://localhost:8080/"
        },
        "id": "2TjTCv1-NFx-",
        "outputId": "b9bfb765-7b37-44c1-ceb2-5b4fb2bc9474"
      },
      "execution_count": null,
      "outputs": [
        {
          "output_type": "stream",
          "name": "stdout",
          "text": [
            "  Number of samples  Method         Computed value        Error  % error\n",
            "-------------------  -----------  ----------------  -----------  ---------\n",
            "                 10  left sum             0.285     0.0483333    14.5%\n",
            "                100  left sum             0.32835   0.00498333   1.49%\n",
            "               1000  left sum             0.332833  0.000499833  0.15%\n",
            "              10000  left sum             0.333283  4.99983e-05  0.015%\n",
            "             100000  left sum             0.333328  4.99998e-06  0.0015%\n",
            "                 10  right sum            0.385     0.0516667    15.5%\n",
            "                100  right sum            0.33835   0.00501667   1.51%\n",
            "               1000  right sum            0.333833  0.000500167  0.15%\n",
            "              10000  right sum            0.333383  5.00017e-05  0.015%\n",
            "             100000  right sum            0.333338  5.00002e-06  0.0015%\n",
            "                 10  trapezoidal          0.335     0.00166667   0.5%\n",
            "                100  trapezoidal          0.33335   1.66667e-05  0.005%\n",
            "               1000  trapezoidal          0.333334  1.66667e-07  5e-05%\n",
            "              10000  trapezoidal          0.333333  1.66667e-09  5e-07%\n",
            "             100000  trapezoidal          0.333333  1.66619e-11  5e-09%\n",
            "                 10  Simpson              0.333333  5.55112e-17  1.67e-14%\n",
            "                100  Simpson              0.333333  5.55112e-17  1.67e-14%\n",
            "               1000  Simpson              0.333333  1.11022e-16  3.33e-14%\n",
            "              10000  Simpson              0.333333  1.11022e-16  3.33e-14%\n",
            "             100000  Simpson              0.333333  1.44329e-15  4.33e-13%\n",
            "                 10  Monte Carlo          0.173595  0.159738     47.9%\n",
            "                100  Monte Carlo          0.361122  0.0277886    8.34%\n",
            "               1000  Monte Carlo          0.350089  0.016756     5.03%\n",
            "              10000  Monte Carlo          0.334729  0.00139568   0.419%\n",
            "             100000  Monte Carlo          0.333301  3.22797e-05  0.00968%\n"
          ]
        }
      ]
    },
    {
      "cell_type": "markdown",
      "source": [
        "## Observations:\n",
        "\n",
        "* As the number of samples/partitions increases, the error decreases in all the methods.\n",
        "* The error in Simpson's rule is exceptionally small, for any amount of partitioning. This is because the Simpson's method is accurate for polynomials of degree 3 or less. Here our integrand is $ x^2 $\n",
        "* The Monte Carlo method usually requires large number of samples as it depends on the \"law of large numbers\"\n",
        "* As the number of intervals increases in the left Riemann sum, the computed value increases. This is because $x^2$ is an increasing function in [0, 1]. Similarly, the right Riemann sum decreases as we increase the number of partitions."
      ],
      "metadata": {
        "id": "qROkuFtlSzwn"
      }
    }
  ]
}