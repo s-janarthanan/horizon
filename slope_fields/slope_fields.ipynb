{
  "nbformat": 4,
  "nbformat_minor": 0,
  "metadata": {
    "colab": {
      "name": "slope_fields.ipynb",
      "provenance": []
    },
    "kernelspec": {
      "name": "python3",
      "display_name": "Python 3"
    },
    "language_info": {
      "name": "python"
    }
  },
  "cells": [
    {
      "cell_type": "markdown",
      "source": [
        "#Slope Fields.\n",
        "Slope fields are used to visualize the shape of different solutions to a differential equation. This is particularly useful when a differential equation does not have an analytical solution. Here, we are given the system of  differential equations:\n",
        "\n",
        "$$\\frac{dB}{dt} = r_bB(t) - kB(t)P(t)$$ and\n",
        "$$\\frac{dP}{dt} = -d_pP(t) + kB(t)P(t)$$ where $r_b \\textrm{, }  d_p \\textrm{ and } k$ are constants.\n",
        "\n",
        "We are asked to plot a slope field for $B$ vs $P$. Let us take $P$ as the $y-axis$ and $B$ as the $x-axis$.\n",
        "\n",
        "Using the chain rule, we have\n",
        "\n",
        "$$\\frac{dP}{dB} = \\frac{\\frac{dP}{dt}}{\\frac{dB}{dt}} = \\frac{-d_pP + kBP}{r_bB -kBP}$$\n",
        "\n",
        "\n",
        "Now, let us run a code which will output our slope as a vector. When our slope is $m$, the corresponding vector is $\\hat i + m\\cdot \\hat j$. We will consider $r_b = 0.8$, $d_p = 1.6$ and $k = 1.2$. \n",
        "\n",
        "Let us find the slope fields at the grid $B \\times P \\in [-0.5, 0.5] \\times [-0.5, 0.5]$, at every $0.2$ interval. At each point, we will output the following:\n",
        "\n",
        "1. slope $m$ \n",
        "2. direction $\\hat i + m \\hat j$ \n",
        "3. the $\\arctan(m)$\n",
        "\n",
        "This program can be cuztomized with different grid sizes, partitions on each axis , and different values of $r_b$, $d_p$, $k$."
      ],
      "metadata": {
        "id": "O8jpyXaH5SP8"
      }
    },
    {
      "cell_type": "code",
      "source": [
        "import math\n",
        "\n",
        "# Function to calculate the slope field at a given point (B, P)\n",
        "def slope(B, P, r_b, d_p, k):\n",
        "  numerator = (d_p * P) + (k * B * P)\n",
        "  denominator = (r_b * B) - (k * B * P)\n",
        "  try:\n",
        "    return numerator / denominator\n",
        "  except ZeroDivisionError:\n",
        "    return math.nan"
      ],
      "metadata": {
        "id": "dpaYcGFE9oYk"
      },
      "execution_count": 159,
      "outputs": []
    },
    {
      "cell_type": "code",
      "source": [
        "import numpy as np\n",
        "\n",
        "def coordinates(lower_limit, upper_limit, partitions):\n",
        "  gap = (upper_limit - lower_limit)/partitions\n",
        "  output = []\n",
        "  for i in range(0, partitions+1):\n",
        "    output.append(lower_limit + i*gap)\n",
        "  return output"
      ],
      "metadata": {
        "id": "q4oCMpaw-01A"
      },
      "execution_count": 160,
      "outputs": []
    },
    {
      "cell_type": "code",
      "execution_count": 167,
      "metadata": {
        "id": "p3rCUkWA5Q7M"
      },
      "outputs": [],
      "source": [
        "from tabulate import tabulate\n",
        "\n",
        "\n",
        "def print_slope_field(\n",
        "    lower_limit_b = -0.5,\n",
        "    upper_limit_b = 0.5,\n",
        "    partitions_b = 5,\n",
        "    lower_limit_p = -0.5,\n",
        "    upper_limit_p = 0.5,\n",
        "    partitions_p = 5,\n",
        "    r_b = 0.8,\n",
        "    d_p = 1.6,\n",
        "    k = 1.2):\n",
        "  \n",
        "    output = []\n",
        "    b_points = coordinates(lower_limit_b, upper_limit_b, partitions_b)\n",
        "    p_points = coordinates(lower_limit_p, upper_limit_p, partitions_p)\n",
        "    for b in b_points :\n",
        "        for p in p_points:\n",
        "            slp = slope(b, p, r_b, d_p, k)\n",
        "            direction = (1, slp)\n",
        "            # angle in degree\n",
        "            angle = math.atan(slp)*180.0/math.pi\n",
        "            output.append([\"{0:.2f}\".format(b), \"{0:.2f}\".format(p), direction, \"{0:.2f}\".format(angle)])\n",
        "    print(tabulate(output, headers = ['B', 'P', 'vector', 'angle wrt B axis in degree']))    \n"
      ]
    },
    {
      "cell_type": "code",
      "source": [
        "print_slope_field()"
      ],
      "metadata": {
        "colab": {
          "base_uri": "https://localhost:8080/",
          "height": 0
        },
        "id": "4jxzeJ-_LAfz",
        "outputId": "f84c49c1-76b7-49ea-d116-a63f339b7a90"
      },
      "execution_count": 168,
      "outputs": [
        {
          "output_type": "stream",
          "name": "stdout",
          "text": [
            "   B     P  vector                      angle wrt B axis in degree\n",
            "----  ----  ------------------------  ----------------------------\n",
            "-0.5  -0.5  (1, 0.7142857142857143)                          35.54\n",
            "-0.5  -0.3  (1, 0.5172413793103448)                          27.35\n",
            "-0.5  -0.1  (1, 0.21739130434782605)                         12.26\n",
            "-0.5   0.1  (1, -0.2941176470588238)                        -16.39\n",
            "-0.5   0.3  (1, -1.3636363636363638)                        -53.75\n",
            "-0.5   0.5  (1, -4.999999999999998)                         -78.69\n",
            "-0.3  -0.5  (1, 1.4761904761904765)                          55.89\n",
            "-0.3  -0.3  (1, 1.0689655172413794)                          46.91\n",
            "-0.3  -0.1  (1, 0.4492753623188406)                          24.19\n",
            "-0.3   0.1  (1, -0.6078431372549026)                        -31.29\n",
            "-0.3   0.3  (1, -2.8181818181818197)                        -70.46\n",
            "-0.3   0.5  (1, -10.333333333333336)                        -84.47\n",
            "-0.1  -0.5  (1, 5.285714285714288)                           79.29\n",
            "-0.1  -0.3  (1, 3.8275862068965525)                          75.36\n",
            "-0.1  -0.1  (1, 1.6086956521739133)                          58.13\n",
            "-0.1   0.1  (1, -2.1764705882352966)                        -65.32\n",
            "-0.1   0.3  (1, -10.090909090909095)                        -84.34\n",
            "-0.1   0.5  (1, -37.0)                                      -88.45\n",
            " 0.1  -0.5  (1, -6.142857142857138)                         -80.75\n",
            " 0.1  -0.3  (1, -4.448275862068962)                         -77.33\n",
            " 0.1  -0.1  (1, -1.8695652173913024)                        -61.86\n",
            " 0.1   0.1  (1, 2.5294117647058827)                          68.43\n",
            " 0.1   0.3  (1, 11.727272727272721)                          85.13\n",
            " 0.1   0.5  (1, 42.999999999999964)                          88.67\n",
            " 0.3  -0.5  (1, -2.3333333333333335)                        -66.8\n",
            " 0.3  -0.3  (1, -1.6896551724137925)                        -59.38\n",
            " 0.3  -0.1  (1, -0.7101449275362317)                        -35.38\n",
            " 0.3   0.1  (1, 0.960784313725491)                           43.85\n",
            " 0.3   0.3  (1, 4.454545454545455)                           77.35\n",
            " 0.3   0.5  (1, 16.33333333333333)                           86.5\n",
            " 0.5  -0.5  (1, -1.5714285714285716)                        -57.53\n",
            " 0.5  -0.3  (1, -1.1379310344827585)                        -48.69\n",
            " 0.5  -0.1  (1, -0.4782608695652173)                        -25.56\n",
            " 0.5   0.1  (1, 0.6470588235294124)                          32.91\n",
            " 0.5   0.3  (1, 3.0000000000000004)                          71.57\n",
            " 0.5   0.5  (1, 10.999999999999996)                          84.81\n"
          ]
        }
      ]
    }
  ]
}