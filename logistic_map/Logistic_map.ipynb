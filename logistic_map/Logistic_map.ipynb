{
  "nbformat": 4,
  "nbformat_minor": 0,
  "metadata": {
    "colab": {
      "name": "Logistic map.ipynb",
      "provenance": [],
      "collapsed_sections": []
    },
    "kernelspec": {
      "name": "python3",
      "display_name": "Python 3"
    },
    "language_info": {
      "name": "python"
    }
  },
  "cells": [
    {
      "cell_type": "markdown",
      "source": [
        "# Logistic Map\n",
        "The logistic equation is a recurrence relation given by $x_{n+1} = r x_n(1-x_n)$. One of its main areas of application is in modelling population growths. Usually, we take $r > 0$ and $x \\in [0, 1] $."
      ],
      "metadata": {
        "id": "l2EZ08GtqF_s"
      }
    },
    {
      "cell_type": "code",
      "source": [
        "\"\"\"\n",
        "logistic_map function is repeatedly applied starting with initial value\n",
        "known as x_0.\n",
        "\n",
        "xn is the value of logistic_map from last call.\n",
        "r is the growth rate parameter.\n",
        "\"\"\"\n",
        "def logistic_map(xn, r):\n",
        "    return r*xn*(1-xn)"
      ],
      "metadata": {
        "id": "SpjQPGTbvD8Q"
      },
      "execution_count": null,
      "outputs": []
    },
    {
      "cell_type": "markdown",
      "source": [
        "## Boundedness of the logistic map : \n",
        "The logistic map always converges when $0 < r < 4$. We can analyse when the map gets unbounded (we assume $r \\geq 0$ for simplicity). For $ 0 < r< 1$, it always reaches zero (as seen from the next problem) , hence we need not consider this case.\n",
        "\n",
        "It is clear that once $x_n$ becomes negative, it keeps becoming more and more negative, as both $r$ and $(1 - x_n)$ are greater than 1. So, we need to find the values of $r$ for which $x_n$ may become negative.\n",
        "\n",
        "Let's say in $n$th iteration $x_n$ becomes negative for the first time. Then $x_{n-1}$  has to be greater than 1. This is because, only the $(1-x_{n-1})$ term can flip the sign of $x_{n}$. So we have the question : \n",
        "\n",
        "When is $rx(1-x) > 1$? \n",
        "\n",
        "Solving for $rx(1-x) = 1$, we get that : \n",
        "\\begin{align}\n",
        "x \\in \\left( \\frac{1-\\sqrt{1-\\frac{4}{r}}}{2}, \\frac{1+\\sqrt{1-\\frac{4}{r}}}{2}\\right)\n",
        "\\end{align}\\\n",
        "For $x$ to be real, we require $r > 4$. Thus, for $r \\in [0, 4]$, the relation is always bounded. It has been found that for $r > 4$, the recurrence is almost always unbounded irrespective of initial $x_0$. \n",
        "\n",
        "We run a python program for $r = 3.4$ and $r = 4.1$, and $x_0 = 0.2$ to illustrate this."
      ],
      "metadata": {
        "id": "YjvdGwxuuWsi"
      }
    },
    {
      "cell_type": "code",
      "source": [
        "from tabulate import tabulate\n",
        "\n",
        "r = 3.4\n",
        "x_0 = 0.2\n",
        "output = []\n",
        "for i in range(1000):\n",
        "  x_0 = logistic_map(x_0, r)\n",
        "output.append([3.4, 1000, x_0])\n",
        "\n",
        "r = 4.1 \n",
        "x_0 = 0.2\n",
        "for i in range(20):\n",
        "  x_0 = logistic_map(x_0, r)\n",
        "\n",
        "output.append([4.1, 20, x_0])\n",
        "print((tabulate(output, headers = ['r', 'iterations', 'final value'])))"
      ],
      "metadata": {
        "colab": {
          "base_uri": "https://localhost:8080/"
        },
        "id": "Eme_2spc3NiQ",
        "outputId": "cab576ba-7292-492b-96de-a8585a975ac9"
      },
      "execution_count": null,
      "outputs": [
        {
          "output_type": "stream",
          "name": "stdout",
          "text": [
            "  r    iterations    final value\n",
            "---  ------------  -------------\n",
            "3.4          1000       0.842154\n",
            "4.1            20    -inf\n"
          ]
        }
      ]
    },
    {
      "cell_type": "markdown",
      "source": [
        "###Observation :\n",
        "As expected, for $r = 3.4$, it is indeed bounded even after quite a few iterations, and for $r = 4.1$, it shoots to $-\\infty$ even for very few iterations."
      ],
      "metadata": {
        "id": "ZhnAcRiz35wJ"
      }
    },
    {
      "cell_type": "markdown",
      "source": [
        "##Logistic map for $0<r<1$:\n",
        "The value of x eventually goes to 0 after a large number of iterations, when the $ r \\in (0, 1)$. This happens irrespective of the initial x value. The following is a python program for $x_0 = 0.2$ and $r = 0.5$. We display the value of x after 1, 10, 50, 100, 500 and 2000 iterations. It is clear that x keeps decreasing till it reaches 0."
      ],
      "metadata": {
        "id": "qoYhpVNczW0s"
      }
    },
    {
      "cell_type": "code",
      "source": [
        "x_0 = 0.2\n",
        "output = []\n",
        "r = 0.5\n",
        "output.append([0, x_0])\n",
        "for i in range (1, 2001): #we carry out the iteration 2000 times.\n",
        "  x_0 = logistic_map(x_0, r)\n",
        "  if i in [1, 10, 50, 100, 500, 2000]: # we are displaying the value of x after these number of iterations\n",
        "    output.append([i, x_0])\n",
        "\n",
        "print(tabulate(output, headers = ['iterations', 'value']))"
      ],
      "metadata": {
        "colab": {
          "base_uri": "https://localhost:8080/"
        },
        "id": "9VDEilptqzUd",
        "outputId": "a4ffad52-b09d-4081-ad44-b5d1ce70ba96"
      },
      "execution_count": null,
      "outputs": [
        {
          "output_type": "stream",
          "name": "stdout",
          "text": [
            "  iterations        value\n",
            "------------  -----------\n",
            "           0  0.2\n",
            "           1  0.08\n",
            "          10  0.000133701\n",
            "          50  1.21568e-16\n",
            "         100  1.07974e-31\n",
            "         500  4.1814e-152\n",
            "        2000  0\n"
          ]
        }
      ]
    },
    {
      "cell_type": "markdown",
      "source": [
        "##Logistic map for $1<r<3$ : \n",
        "Here, x reaches a certain value several iterations. After this, even if we iterate the map, x value remains the same. For $1< r < 3$, this constant value is $\\frac{r-1}{r}$. We run a python program for $r = 1.5$ and different initial values $x_0$. We can see that the value coverges to $\\frac{1}{3}$, even for few  iterations."
      ],
      "metadata": {
        "id": "Ye8K2RkX1skj"
      }
    },
    {
      "cell_type": "code",
      "source": [
        "r = 1.5\n",
        "# The elements in this list are the various initial values taken\n",
        "x_0_values = [0.00001, 0.001, 0.1, 0.2, 0.5 , 0.7]\n",
        "\n",
        "# list of lists for tabular output\n",
        "output = []\n",
        "for x_0 in x_0_values:\n",
        "  val = x_0\n",
        "  for i in range(5):\n",
        "    val = logistic_map(val, r)\n",
        "  output.append([x_0, 5, val])\n",
        "  for i in range(25):\n",
        "    val = logistic_map(val, r)\n",
        "  output.append([x_0, 30, val])\n",
        "  for i in range(20): # we show what happens to x after 5, 30 and 50 iterations\n",
        "    val = logistic_map(val,r)\n",
        "  output.append([x_0, 50, val])  \n",
        "print(tabulate(output, headers = ['initial x', 'number of iterations', 'final value']))     "
      ],
      "metadata": {
        "colab": {
          "base_uri": "https://localhost:8080/"
        },
        "id": "BLtwrYKNrheE",
        "outputId": "e8159e27-5b56-45cc-b56b-2914fc6e16e2"
      },
      "execution_count": null,
      "outputs": [
        {
          "output_type": "stream",
          "name": "stdout",
          "text": [
            "  initial x    number of iterations    final value\n",
            "-----------  ----------------------  -------------\n",
            "      1e-05                       5    7.59275e-05\n",
            "      1e-05                      30    0.315156\n",
            "      1e-05                      50    0.333333\n",
            "      0.001                       5    0.00749458\n",
            "      0.001                      30    0.333326\n",
            "      0.001                      50    0.333333\n",
            "      0.1                         5    0.28469\n",
            "      0.1                        30    0.333333\n",
            "      0.1                        50    0.333333\n",
            "      0.2                         5    0.32303\n",
            "      0.2                        30    0.333333\n",
            "      0.2                        50    0.333333\n",
            "      0.5                         5    0.335405\n",
            "      0.5                        30    0.333333\n",
            "      0.5                        50    0.333333\n",
            "      0.7                         5    0.332061\n",
            "      0.7                        30    0.333333\n",
            "      0.7                        50    0.333333\n"
          ]
        }
      ]
    },
    {
      "cell_type": "markdown",
      "source": [
        "## Logistic map for $r > 3$ :\n",
        "\n",
        "The following is a python program for different initial $x_0$, with $r = 3.2$. We iterate the logistic_map 1000 times and display the last five iterations for each $x_0$. We can see that x does not reach a constant value. It alternates between two values. Interestingly, these two values between which x alternates are the same, irrespective of the initial $x_0$ (about 0.513 and 0.799). Thus, we can say that these final **equillibrium values** depend only on r, and not on $x_0$.\n",
        "\n",
        "However, iteration numbers corresponding to 0.513 and to 0.799 do depend on the initial $x_0$ (for example, every even iteration corresponds to 0.513 to $x_0 = 0.01$, but every even iteration corresponds to 0.799 for $x_0 = 0.2$).\n",
        "\n",
        "It has been found that these two values between which x alternates are given by : $x_{final}=\\frac{1}{2r} \\cdot (r + 1 \\pm \\sqrt{(r-3)(r+1)})$. Putting r = 3.2, we do get the two values of $x_{final}$ to be 0.799 and 0.513. This relation holds only when $ r \\in \\left(3, 1 + √6\\right)$."
      ],
      "metadata": {
        "id": "4vFIAxDc3Hn4"
      }
    },
    {
      "cell_type": "code",
      "source": [
        "x_0_values = [0.00001,0.001, 0.2, 0.7]\n",
        "r = 3.2\n",
        "output = []\n",
        "for x_0 in x_0_values:\n",
        "  a = x_0\n",
        "  for j in range (1000):\n",
        "    x_0 = logistic_map(x_0, r)\n",
        "    if j >= 995:\n",
        "      output.append([a, j+1, x_0])\n",
        "print((tabulate(output, headers = ['initial x', 'iterations', 'final value'])))"
      ],
      "metadata": {
        "colab": {
          "base_uri": "https://localhost:8080/"
        },
        "id": "BmW4NiAjqN-P",
        "outputId": "e39f2fbf-1414-4c37-f2da-588f1273a687"
      },
      "execution_count": null,
      "outputs": [
        {
          "output_type": "stream",
          "name": "stdout",
          "text": [
            "  initial x    iterations    final value\n",
            "-----------  ------------  -------------\n",
            "      1e-05           996       0.513045\n",
            "      1e-05           997       0.799455\n",
            "      1e-05           998       0.513045\n",
            "      1e-05           999       0.799455\n",
            "      1e-05          1000       0.513045\n",
            "      0.001           996       0.513045\n",
            "      0.001           997       0.799455\n",
            "      0.001           998       0.513045\n",
            "      0.001           999       0.799455\n",
            "      0.001          1000       0.513045\n",
            "      0.2             996       0.799455\n",
            "      0.2             997       0.513045\n",
            "      0.2             998       0.799455\n",
            "      0.2             999       0.513045\n",
            "      0.2            1000       0.799455\n",
            "      0.7             996       0.799455\n",
            "      0.7             997       0.513045\n",
            "      0.7             998       0.799455\n",
            "      0.7             999       0.513045\n",
            "      0.7            1000       0.799455\n"
          ]
        }
      ]
    },
    {
      "cell_type": "markdown",
      "source": [
        "## References\n",
        "\n",
        "* [Wikipedia Logistic Map](https://en.wikipedia.org/wiki/Logistic_map)\n",
        "* [Wolfram Logistic Map](https://mathworld.wolfram.com/LogisticMap.html)\n",
        "* [Visualizing Chaos and Randomness](https://geoffboeing.com/2015/04/visualizing-chaos-and-randomness/)"
      ],
      "metadata": {
        "id": "9NgMECPEpUPg"
      }
    }
  ]
}